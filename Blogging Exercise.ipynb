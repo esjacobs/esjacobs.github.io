{
 "cells": [
  {
   "cell_type": "markdown",
   "metadata": {},
   "source": [
    "<img src=\"http://imgur.com/1ZcRyrc.png\" style=\"float: left; margin: 20px; height: 55px\">\n",
    "\n",
    "# Sample Blogging Exercise\n",
    "\n",
    "_Author: Ben Shaver (DC)_\n",
    "---\n"
   ]
  },
  {
   "cell_type": "markdown",
   "metadata": {},
   "source": [
    "<a id=goals></a>\n",
    "\n",
    "##  Overview\n",
    "\n",
    "A great way to build your skills, portfolio, and online presence as a data scientist is to regularly play with new datasets and publish interesting observations you have made. Every Monday afternoon, you'll be examining a dataset of your choosing in order to practice this skill. Below are a series of questions to get you started. You may use this notebook as a template to complete the exercise every week.\n",
    "\n",
    "For this exercise, you are highly encouraged to use a 'fresh' dataset like one featured in [Data is Plural](https://tinyletter.com/data-is-plural/letters/).  \n",
    "\n",
    "## Required Objectives\n",
    "\n",
    "Every monday, slack the dataset you have chosen to Ben by 10 am. You are required to examine a different dataset every week.\n",
    "\n",
    "\n",
    "## Additional Resources\n",
    "\n",
    "[100 Interesting Datasets for Statisticians](http://rs.io/100-interesting-data-sets-for-statistics/)\n",
    "\n",
    "[Open Data Inception - 2600+ Open Data Portals Around the World](https://opendatainception.io/)\n",
    "\n",
    "[Data For Everyone Library](https://www.crowdflower.com/data-for-everyone/)\n",
    "\n",
    "[Our World in Data](https://ourworldindata.org/)\n",
    "\n",
    "[Machine Learning Friendly Public Datasets](https://www.kaggle.com/annavictoria/ml-friendly-public-datasets/)\n",
    "\n",
    "[Top Datasets on r/Datasets](https://www.reddit.com/r/datasets/top/?sort=top&t=all)\n",
    "\n",
    "\n"
   ]
  },
  {
   "cell_type": "code",
   "execution_count": 1,
   "metadata": {
    "collapsed": true
   },
   "outputs": [],
   "source": [
    "import matplotlib.pyplot as plt\n",
    "import numpy as np\n",
    "import pandas as pd\n",
    "import seaborn as sns\n",
    "\n",
    "%matplotlib inline\n",
    "%config InlineBackend.figure_format = 'retina'"
   ]
  },
  {
   "cell_type": "markdown",
   "metadata": {},
   "source": [
    "<a id='Data Cleaning'></a>\n",
    "## Data Cleaning\n",
    "\n",
    "---\n"
   ]
  },
  {
   "cell_type": "markdown",
   "metadata": {},
   "source": [
    "### Data Description\n",
    "\n",
    "Begin with a short description of your dataset. Where did you get it? (Provide a link.) What does it show?\n",
    "\n",
    "What are the observational units? What are the variables? (If your dataset has many variables, try and focus on just 5-10 for the purposes of this exercise.)\n",
    "\n",
    "Is your data tidy? Is each row an observation and each column a variable?"
   ]
  },
  {
   "cell_type": "code",
   "execution_count": null,
   "metadata": {
    "collapsed": true
   },
   "outputs": [],
   "source": []
  },
  {
   "cell_type": "markdown",
   "metadata": {},
   "source": [
    "### Data Types and Missing Values\n",
    "\n",
    "What data type is each column? Are they what you expect?\n",
    "\n",
    "Are there any null values? What about missing values or impossible values?\n",
    "\n",
    "(Don't go down too many rabbit holes here. In a real project, you'd want to check all the variables for outliers and make sure every column is the right data type. For this exercise, it is OK to ignore some variables that are giving you trouble if you feel you can make interesting observations using the other variables.)"
   ]
  },
  {
   "cell_type": "code",
   "execution_count": null,
   "metadata": {
    "collapsed": true
   },
   "outputs": [],
   "source": []
  },
  {
   "cell_type": "markdown",
   "metadata": {},
   "source": [
    "<a id='EDA'></a>\n",
    "## Exploratory Data Analysis\n",
    "\n",
    "---\n"
   ]
  },
  {
   "cell_type": "markdown",
   "metadata": {},
   "source": [
    "What exactly are you trying to figure out using this data? What is your [population of interest](https://www.quora.com/What-is-the-population-of-interest-in-statistics)?\n",
    "\n",
    "What are some questions you could ask of this data? Write down a few questions before you write another line of code."
   ]
  },
  {
   "cell_type": "code",
   "execution_count": null,
   "metadata": {
    "collapsed": true
   },
   "outputs": [],
   "source": []
  },
  {
   "cell_type": "markdown",
   "metadata": {},
   "source": [
    "Of the questions you've brainstormed, which are the easiest to answer? Which are the hardest?\n",
    "\n",
    "What answers would surprise you? For which questions do you lack strong pre-existing opinions?"
   ]
  },
  {
   "cell_type": "code",
   "execution_count": null,
   "metadata": {
    "collapsed": true
   },
   "outputs": [],
   "source": []
  },
  {
   "cell_type": "markdown",
   "metadata": {},
   "source": [
    "Go ahead and answer a few of the questions you've brainstormed. Focus on the low-hanging fruit: questions which you can begin to answer in just a few minutes, but that would be informative, surprising, or interesting.\n",
    "\n",
    "Use the tools of desriptive statistics and exploratory visualization at increasting levels of complexity:\n",
    "\n",
    "* Begin by examining the distribution of the variables you're interested in. Create histograms, box plots, or count plots (in the case of categorical variables). Which variables have the highest variance? \n",
    "* Examine the relationship between pairs of variables. Generate scatterplots and compute correlations between two numerical columns. Make cross tabulations with two categorical variables. Examine the distribution of numerical variables after you have subsetted on a categorical variable.\n",
    "* If you like, examine the relationship between two variables after you have controlled for a third. Subset your data on one variable and create a scatter plot which shows the relationship between two others, for example."
   ]
  },
  {
   "cell_type": "code",
   "execution_count": null,
   "metadata": {
    "collapsed": true
   },
   "outputs": [],
   "source": []
  },
  {
   "cell_type": "markdown",
   "metadata": {},
   "source": [
    "<a id='Visualization'></a>\n",
    "## Visualization\n",
    "---\n",
    "\n",
    "You should have answered one or more interesting questions about your data. What most surprised you? What is your most important finding?\n",
    "\n",
    "Think about how you might communicate these insights to a non-expert using visualization. (Refer to Joseph Nelson's [guest lecture](https://github.com/josephofiowa/ds-blogging).) Use descriptive axis labels and titles that capture the main point of each visualization. Someone looking at your visualization should understand what it is telling them in only a few seconds. \n",
    "\n",
    "Once you have created one or more visualizations, consult the Matplotlib or Seaborn documentation and play with a few parameters. Do they make your visualization clearer to a potential reader?\n",
    "\n",
    "You've just spent an hour digging into this dataset. Imagine you have to explain what you've done and what you've learned to someone who doesn't actually care about data science, but they're curious about what the data might show. Write one or two short paragraphs summarizing what you have learned. Don't mention any data cleaning you did or questions you didn't answer. Data science isn't about you sounding smart. Therefore, avoid the temptation to \"show your work.\""
   ]
  },
  {
   "cell_type": "code",
   "execution_count": null,
   "metadata": {
    "collapsed": true
   },
   "outputs": [],
   "source": []
  },
  {
   "cell_type": "markdown",
   "metadata": {},
   "source": [
    "Congratulations! You've just written a blog post.\n",
    "\n",
    "Good science generates additional questions to be asked. If you had to spend eight hours with this dataset, what would you do with it? What kinds of models might you run on this data?\n",
    "\n",
    "If you were to start over on this analysis, what would you have done differently? Just a few sentences is enough here."
   ]
  },
  {
   "cell_type": "code",
   "execution_count": null,
   "metadata": {
    "collapsed": true
   },
   "outputs": [],
   "source": []
  }
 ],
 "metadata": {
  "kernelspec": {
   "display_name": "Python [default]",
   "language": "python",
   "name": "python3"
  },
  "language_info": {
   "codemirror_mode": {
    "name": "ipython",
    "version": 3
   },
   "file_extension": ".py",
   "mimetype": "text/x-python",
   "name": "python",
   "nbconvert_exporter": "python",
   "pygments_lexer": "ipython3",
   "version": "3.6.4"
  }
 },
 "nbformat": 4,
 "nbformat_minor": 2
}
